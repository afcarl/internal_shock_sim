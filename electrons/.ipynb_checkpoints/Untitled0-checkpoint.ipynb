{
 "metadata": {
  "name": "",
  "signature": "sha256:ad409f1cc046f0150f17db4a7c2181d66f23a5081f9d1b0322febf07b86e0389"
 },
 "nbformat": 3,
 "nbformat_minor": 0,
 "worksheets": []
}